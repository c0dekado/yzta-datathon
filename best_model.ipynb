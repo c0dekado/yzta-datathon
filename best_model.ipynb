{
 "cells": [
  {
   "cell_type": "code",
   "execution_count": null,
   "metadata": {},
   "outputs": [],
   "source": [
    "# KÜTÜPHANE İMPORTLARI\n",
    "import numpy as np\n",
    "import pandas as pd\n",
    "from sklearn.model_selection import train_test_split\n",
    "from sklearn.preprocessing import StandardScaler, LabelEncoder\n",
    "from sklearn.metrics import mean_squared_error\n",
    "import matplotlib.pyplot as plt\n",
    "import os\n",
    "import keras_tuner as kt\n",
    "from tensorflow import keras\n",
    "from tensorflow.keras import layers\n",
    "from tensorflow.keras.callbacks import EarlyStopping"
   ]
  },
  {
   "cell_type": "code",
   "execution_count": null,
   "metadata": {},
   "outputs": [],
   "source": [
    "# VERİ YÜKLEME VE ÖN İŞLEME\n",
    "# Ana veri setlerini yükleme\n",
    "train0 = pd.read_csv('/kaggle/input/academy2025/train.csv')\n",
    "test0 = pd.read_csv('/kaggle/input/academy2025/testFeatures.csv')\n",
    "# USD/TRY kur verilerini yükleme - fiyat tahminlerini iyileştirmek için ek özellik olarak kullanılacak\n",
    "usd_df = pd.read_csv('/kaggle/input/afsfewwerwerwer/usd_clean.csv')"
   ]
  },
  {
   "cell_type": "code",
   "execution_count": null,
   "metadata": {},
   "outputs": [],
   "source": [
    "# ZAMAN ÖZELLİKLERİNİN ÇIKARILMASI\n",
    "# Tarih sütunlarını datetime formatına dönüştürme\n",
    "train0['tarih'] = pd.to_datetime(train0['tarih'])\n",
    "test0['tarih'] = pd.to_datetime(test0['tarih'])\n",
    "usd_df['tarih'] = pd.to_datetime(usd_df['tarih'], format='%Y-%m-%d')\n",
    "\n",
    "# Tarihten yeni özellikler türetme (yıl, ay, haftanın günü)\n",
    "train0[\"yıl\"] = train0[\"tarih\"].dt.year\n",
    "train0[\"ay\"] = train0[\"tarih\"].dt.month\n",
    "test0[\"yıl\"] = test0[\"tarih\"].dt.year\n",
    "test0[\"ay\"] = test0[\"tarih\"].dt.month\n",
    "train0[\"haftanın_günü\"] = train0[\"tarih\"].dt.dayofweek\n",
    "test0[\"haftanın_günü\"] = test0[\"tarih\"].dt.dayofweek"
   ]
  },
  {
   "cell_type": "code",
   "execution_count": null,
   "metadata": {},
   "outputs": [],
   "source": [
    "# KATEGORİK VERİLERİN SAYISALLAŞTIRILMASI\n",
    "# Kategorik değişkenleri LabelEncoder ile sayısal değerlere dönüştürme\n",
    "# Not: Train ve test verisi birlikte encode ediliyor ki aynı kategoriler aynı değerleri alsın\n",
    "categorical_cols = [\"ürün\", \"ürün kategorisi\", \"ürün üretim yeri\", \"market\", \"şehir\"]\n",
    "for col in categorical_cols:\n",
    "    le = LabelEncoder()\n",
    "    combined = pd.concat([train0[col], test0[col]])\n",
    "    le.fit(combined)\n",
    "    train0[col] = le.transform(train0[col])\n",
    "    test0[col] = le.transform(test0[col])"
   ]
  },
  {
   "cell_type": "code",
   "execution_count": null,
   "metadata": {},
   "outputs": [],
   "source": [
    "# VERİ DÖNÜŞÜMÜ VE ÖZELLİK MÜHENDİSLİĞİ\n",
    "# Sayısal değerlere logaritmik dönüşüm uygulama - aşırı değerlerin etkisini azaltmak için\n",
    "train0['ürün fiyatı'] = np.log1p(train0['ürün fiyatı'])\n",
    "train0['ürün besin değeri'] = np.log1p(train0['ürün besin değeri'])\n",
    "test0['ürün besin değeri'] = np.log1p(test0['ürün besin değeri'])\n",
    "\n",
    "# USD kur verilerini ana veri setleriyle birleştirme\n",
    "train_merged = pd.merge(train0, usd_df[['tarih', 'USD/TRY']], on='tarih', how='left')\n",
    "test_merged = pd.merge(test0, usd_df[['tarih', 'USD/TRY']], on='tarih', how='left')\n",
    "\n",
    "# USD/TRY verilerini sayısal formata dönüştürme ve temizleme\n",
    "train_merged['USD/TRY'] = train_merged['USD/TRY'].str.replace(',', '.').astype(float)\n",
    "test_merged['USD/TRY'] = test_merged['USD/TRY'].str.replace(',', '.').astype(float)\n",
    "train_merged['USD/TRY'] = train_merged['USD/TRY'].fillna(0)\n",
    "test_merged['USD/TRY'] = test_merged['USD/TRY'].fillna(0)"
   ]
  },
  {
   "cell_type": "code",
   "execution_count": null,
   "metadata": {},
   "outputs": [],
   "source": [
    "# MODEL İÇİN VERİ HAZIRLAMA\n",
    "# Modelde kullanılacak özelliklerin seçimi\n",
    "features_with_usd = [\"ürün\", \"ürün besin değeri\", \"ürün kategorisi\", \"ürün üretim yeri\",\n",
    "                     \"market\", \"şehir\", \"yıl\", \"ay\", \"haftanın_günü\", \"USD/TRY\"]\n",
    "X_usd = train_merged[features_with_usd]\n",
    "y_usd = train_merged[\"ürün fiyatı\"]\n",
    "X_test_usd = test_merged[features_with_usd]\n",
    "\n",
    "# Veri setini eğitim ve doğrulama olarak bölme\n",
    "X_train_usd, X_val_usd, y_train_usd, y_val_usd = train_test_split(X_usd, y_usd, test_size=0.2, random_state=42)\n",
    "\n",
    "# Özellikleri ölçeklendirme - model performansını artırmak için\n",
    "scaler_usd = StandardScaler()\n",
    "X_train_scaled_usd = scaler_usd.fit_transform(X_train_usd)\n",
    "X_val_scaled_usd = scaler_usd.transform(X_val_usd)\n",
    "X_test_scaled_usd = scaler_usd.transform(X_test_usd)"
   ]
  },
  {
   "cell_type": "code",
   "execution_count": null,
   "metadata": {},
   "outputs": [],
   "source": [
    "# KERAS TUNER İLE MODEL OLUŞTURMA VE HİPERPARAMETRE OPTİMİZASYONU\n",
    "def build_model_with_usd(hp):\n",
    "    # Dinamik model mimarisi - Keras Tuner ile optimize edilecek\n",
    "    model = keras.Sequential([\n",
    "        layers.Dense(hp.Int('units_1', min_value=32, max_value=128, step=32), activation='relu', input_shape=[X_train_scaled_usd.shape[1]]),\n",
    "        layers.Dense(hp.Int('units_2', min_value=32, max_value=128, step=32), activation='relu'),\n",
    "        layers.Dense(1)\n",
    "    ])\n",
    "    optimizer = hp.Choice('optimizer', values=['adam', 'rmsprop'])\n",
    "    model.compile(optimizer=optimizer, loss='mse', metrics=['mse'])\n",
    "    return model\n",
    "\n",
    "# Keras Tuner ile hiperparametre optimizasyonu\n",
    "tuner_usd = kt.RandomSearch(\n",
    "    build_model_with_usd,\n",
    "    objective='val_loss',\n",
    "    max_trials=3,\n",
    "    executions_per_trial=3,\n",
    "    directory='kt_dir_usd',\n",
    "    project_name='academy2025_tuning_usd'\n",
    ")\n",
    "\n",
    "# Erken durdurma callback'i - overfitting'i önlemek için\n",
    "early_stopping_usd = EarlyStopping(monitor='val_loss', patience=10, restore_best_weights=True)\n",
    "\n",
    "# Hiperparametre arama işlemi\n",
    "tuner_usd.search(X_train_scaled_usd, y_train_usd,\n",
    "                 epochs=100,\n",
    "                 validation_data=(X_val_scaled_usd, y_val_usd),\n",
    "                 callbacks=[early_stopping_usd],\n",
    "                 verbose=1)\n",
    "\n",
    "# En iyi modeli seç\n",
    "best_model_usd = tuner_usd.get_best_models(num_models=1)[0]"
   ]
  },
  {
   "cell_type": "code",
   "execution_count": null,
   "metadata": {},
   "outputs": [],
   "source": [
    "# MODEL DEĞERLENDİRME VE GÖRSELLEŞTIRME\n",
    "# Doğrulama seti üzerinde model performansını değerlendirme\n",
    "loss_usd, mse_usd = best_model_usd.evaluate(X_val_scaled_usd, y_val_usd, verbose=0)\n",
    "rmse_val_deep_learning_tuned_usd = np.sqrt(mse_usd)\n",
    "print(f\"\\nDoğrulama Kümesi RMSE (USD Kuru Dahil): {rmse_val_deep_learning_tuned_usd}\")\n",
    "\n",
    "# Eğitim sürecini görselleştirme\n",
    "history_usd = best_model_usd.fit(\n",
    "    X_train_scaled_usd, y_train_usd,\n",
    "    validation_data=(X_val_scaled_usd, y_val_usd),\n",
    "    epochs=100,\n",
    "    batch_size=32,\n",
    "    callbacks=[early_stopping_usd],\n",
    "    verbose=0\n",
    ")\n",
    "history_df_usd = pd.DataFrame(history_usd.history)\n",
    "history_df_usd.loc[:, ['loss', 'val_loss']].plot()\n",
    "plt.ylabel(\"Loss\")\n",
    "plt.xlabel(\"Epoch\")\n",
    "plt.title(\"Eğitim ve Doğrulama Kaybı (USD Kuru Dahil)\")\n",
    "plt.show()"
   ]
  },
  {
   "cell_type": "code",
   "execution_count": null,
   "metadata": {},
   "outputs": [],
   "source": [
    "# TAHMİN VE SONUÇLARIN KAYDI\n",
    "# Test verisi üzerinde tahmin yapma\n",
    "preds_log_deep_tuned_usd = best_model_usd.predict(X_test_scaled_usd).flatten()\n",
    "\n",
    "# Tahminleri orijinal ölçeğe geri dönüştürme\n",
    "preds_deep_tuned_usd = np.expm1(preds_log_deep_tuned_usd)\n",
    "preds_deep_tuned_usd[preds_deep_tuned_usd < 0] = 0  # Negatif fiyatları sıfıra çevirme\n",
    "\n",
    "# Sonuçları CSV dosyasına kaydetme\n",
    "submission_df_deep_tuned_usd = pd.DataFrame({'id': test_merged['id'], 'ürün fiyatı': preds_deep_tuned_usd})\n",
    "submission_df_deep_tuned_usd.to_csv('submission_tuned_deep_learning_usd.csv', index=False)\n",
    "\n",
    "print(\"\\nsubmission_tuned_deep_learning_usd.csv dosyası başarıyla oluşturuldu.\")\n",
    "print(\"\\nSubmission Dosyasının İlk 10 Değeri (USD Kuru Dahil):\")\n",
    "print(submission_df_deep_tuned_usd.head(10))\n",
    "\n",
    "# Oluşturulan dosyaları kontrol etme\n",
    "for dirname, _, filenames in os.walk('/kaggle/working'):\n",
    "    for filename in filenames:\n",
    "        print(os.path.join(dirname, filename))"
   ]
  }
 ],
 "metadata": {
  "kernelspec": {
   "display_name": "base",
   "language": "python",
   "name": "python3"
  },
  "language_info": {
   "name": "python",
   "version": "3.12.3"
  }
 },
 "nbformat": 4,
 "nbformat_minor": 2
}
